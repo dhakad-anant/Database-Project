{
 "cells": [
  {
   "cell_type": "markdown",
   "metadata": {},
   "source": [
    "# **Importing Libraries**"
   ]
  },
  {
   "cell_type": "code",
   "execution_count": 2,
   "metadata": {},
   "outputs": [],
   "source": [
    "import csv\n",
    "import random\n",
    "import string"
   ]
  },
  {
   "cell_type": "markdown",
   "metadata": {},
   "source": [
    "### **Generating Data for Actors Table**"
   ]
  },
  {
   "cell_type": "code",
   "execution_count": 16,
   "metadata": {},
   "outputs": [],
   "source": [
    "filename='actor.csv'\n",
    "rows=[]\n",
    "n=300000\n",
    "name_length=15\n",
    "fields=['a_id','name']\n",
    "for i in range(1,n+1):\n",
    "    a_id=i\n",
    "    name=''.join(random.choices(string.ascii_uppercase, k = name_length))   \n",
    "    # row=['INSERT INTO Actor(a_id, name) VALUES({}, \\'{}\\');'.format(a_id,name)]\n",
    "    row=[a_id,name]\n",
    "    rows.append(row)\n",
    "\n",
    "with open(filename,'w',newline='') as csvfile:\n",
    "    csvwriter=csv.writer(csvfile)\n",
    "    csvwriter.writerow(fields)\n",
    "    csvwriter.writerows(rows)"
   ]
  },
  {
   "cell_type": "markdown",
   "metadata": {},
   "source": [
    "### **Generating Data for Production Company Table**"
   ]
  },
  {
   "cell_type": "code",
   "execution_count": 17,
   "metadata": {},
   "outputs": [],
   "source": [
    "filename='production_company.csv'\n",
    "rows=[]\n",
    "n=80000\n",
    "name_length=10\n",
    "address_length=30\n",
    "fields=['pc_id','name','address']\n",
    "for i in range(1,n+1):\n",
    "    pc_id=i\n",
    "    name=''.join(random.choices(string.ascii_uppercase, k = name_length))   \n",
    "    address=''.join(random.choices(string.ascii_uppercase, k = address_length))   \n",
    "    # row=['INSERT INTO ProductionCompany(pc_id, name, address) VALUES({}, \\'{}\\', \\'{}\\');'.format(pc_id,name,address)]\n",
    "    row=[pc_id,name,address]\n",
    "    rows.append(row)\n",
    "\n",
    "with open(filename,'w',newline='') as csvfile:\n",
    "    csvwriter=csv.writer(csvfile)\n",
    "    csvwriter.writerow(fields)\n",
    "    csvwriter.writerows(rows)"
   ]
  },
  {
   "cell_type": "markdown",
   "metadata": {},
   "source": [
    "### **Generating Data for Movie Table**"
   ]
  },
  {
   "cell_type": "code",
   "execution_count": 13,
   "metadata": {},
   "outputs": [],
   "source": [
    "filename='movie.csv'\n",
    "rows=[]\n",
    "n=1000000\n",
    "name_length=10\n",
    "\n",
    "imdbScore=[]\n",
    "m=95*n\n",
    "m/=100\n",
    "m=int(m)\n",
    "for i in range(m):\n",
    "    val=random.uniform(1,2)\n",
    "    # imdbScore.append(round(val,1))\n",
    "    imdbScore.append(val)\n",
    "\n",
    "for i in range(n-m):\n",
    "    val=random.uniform(2,5)\n",
    "    # imdbScore.append(round(val,1))\n",
    "    imdbScore.append(val)\n",
    "\n",
    "random.shuffle(imdbScore)\n",
    "\n",
    "fields=['m_id','name','year','imdbScore', 'productionCompany']\n",
    "for i in range(1,n+1):\n",
    "    m_id=i\n",
    "    name=''.join(random.choices(string.ascii_uppercase, k = name_length))   \n",
    "    year=random.randrange(1900,2001)\n",
    "    productionCompany = random.randrange(1,80001)\n",
    "    # row=['INSERT INTO Movie(m_id, name, year, imdbScore, productionCompany) VALUES({}, \\'{}\\', {}, {} , {});'.format(m_id,name,year,imdbScore[i-1],productionCompany)]\n",
    "    row=[m_id,name,year,imdbScore[i-1],productionCompany]\n",
    "    rows.append(row)\n",
    "\n",
    "with open(filename,'w',newline='') as csvfile:\n",
    "    csvwriter=csv.writer(csvfile)\n",
    "    csvwriter.writerow(fields)\n",
    "    csvwriter.writerows(rows)"
   ]
  },
  {
   "cell_type": "markdown",
   "metadata": {},
   "source": [
    "### **Generating Data for Movie2 Table**"
   ]
  },
  {
   "cell_type": "code",
   "execution_count": 3,
   "metadata": {},
   "outputs": [],
   "source": [
    "filename='movie2.csv'\n",
    "rows=[]\n",
    "n=1000000\n",
    "name_length=10\n",
    "\n",
    "imdbScore=[]\n",
    "m=95*n\n",
    "m/=100\n",
    "m=int(m)\n",
    "for i in range(m):\n",
    "    val=random.uniform(1,2)\n",
    "    imdbScore.append(round(val,9))\n",
    "\n",
    "for i in range(n-m):\n",
    "    val=random.uniform(2,5)\n",
    "    imdbScore.append(round(val,1))\n",
    "\n",
    "random.shuffle(imdbScore)\n",
    "\n",
    "fields=['m_id','name','year','imdbScore', 'productionCompany']\n",
    "for i in range(1,n+1):\n",
    "    m_id=i\n",
    "    name=''.join(random.choices(string.ascii_uppercase, k = name_length))   \n",
    "    year=random.randrange(1900,2001)\n",
    "    productionCompany = random.randrange(1,80001)\n",
    "    # row=['INSERT INTO Movie(m_id, name, year, imdbScore, productionCompany) VALUES({}, \\'{}\\', {}, {} , {});'.format(m_id,name,year,imdbScore[i-1],productionCompany)]\n",
    "    row=[m_id,name,year,imdbScore[i-1],productionCompany]\n",
    "    rows.append(row)\n",
    "\n",
    "with open(filename,'w',newline='') as csvfile:\n",
    "    csvwriter=csv.writer(csvfile)\n",
    "    csvwriter.writerow(fields)\n",
    "    csvwriter.writerows(rows)"
   ]
  },
  {
   "cell_type": "markdown",
   "metadata": {},
   "source": [
    "### **Generating Data for CastingTable**"
   ]
  },
  {
   "cell_type": "code",
   "execution_count": 26,
   "metadata": {},
   "outputs": [],
   "source": [
    "filename='casting.csv'\n",
    "rows=[]\n",
    "n=1000000\n",
    "\n",
    "actors=[]\n",
    "m=95*n\n",
    "m/=100\n",
    "m=int(m)\n",
    "for i in range(4*m):\n",
    "    val=random.randrange(1,1001)\n",
    "    actors.append(val)\n",
    "\n",
    "for i in range(4*(n-m)):\n",
    "    val=random.randrange(1001,300000)\n",
    "    actors.append(val)\n",
    "\n",
    "random.shuffle(actors)\n",
    "fields=['m_id','a_id']\n",
    "\n",
    "for j in range(n):\n",
    "    x=[actors[4*j+0],actors[4*j+1],actors[4*j+2],actors[4*j+3]]\n",
    "    y=set(x)\n",
    "    if len(y)!=4:\n",
    "        below_1000=0\n",
    "        for i in x:\n",
    "            if i<=1000:\n",
    "                below_1000+=1\n",
    "        \n",
    "        l=[]\n",
    "        while(len(set(l))!=below_1000):\n",
    "            l=[]\n",
    "            for i in range(below_1000):\n",
    "                a=random.randrange(1,1001)\n",
    "                l.append(a)\n",
    "\n",
    "        l2=[]\n",
    "        while(len(set(l2))!=4-below_1000):\n",
    "            l2=[]\n",
    "            for i in range(4-below_1000):\n",
    "                a=random.randrange(1001,300000)\n",
    "                l2.append(a)\n",
    "        l+=l2\n",
    "        random.shuffle(l)\n",
    "        actors[4*j+0]=l[0]\n",
    "        actors[4*j+1]=l[1]\n",
    "        actors[4*j+2]=l[2]\n",
    "        actors[4*j+3]=l[3]\n",
    "\n",
    "for i in range(1,n+1):\n",
    "    m_id=i\n",
    "    for j in range(4):\n",
    "        a_id=actors[4*(i-1)+j]\n",
    "        # row=['INSERT INTO Casting(m_id, a_id) VALUES({}, {});'.format(m_id,a_id)]\n",
    "        row=[m_id,a_id]\n",
    "        rows.append(row)\n",
    "\n",
    "with open(filename,'w',newline='') as csvfile:\n",
    "    csvwriter=csv.writer(csvfile)\n",
    "    csvwriter.writerow(fields)\n",
    "    csvwriter.writerows(rows)"
   ]
  }
 ],
 "metadata": {
  "interpreter": {
   "hash": "9ce43836c8d3287a06e199a1efd6974587c1d8c7cdf961feda0708cd09e2869c"
  },
  "kernelspec": {
   "display_name": "Python 3.8.5 64-bit",
   "language": "python",
   "name": "python3"
  },
  "language_info": {
   "codemirror_mode": {
    "name": "ipython",
    "version": 3
   },
   "file_extension": ".py",
   "mimetype": "text/x-python",
   "name": "python",
   "nbconvert_exporter": "python",
   "pygments_lexer": "ipython3",
   "version": "3.8.5"
  },
  "orig_nbformat": 4
 },
 "nbformat": 4,
 "nbformat_minor": 2
}
